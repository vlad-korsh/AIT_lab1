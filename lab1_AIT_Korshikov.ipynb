{
  "cells": [
    {
      "cell_type": "markdown",
      "metadata": {
        "id": "dz-UZ1eu420T"
      },
      "source": [
        "# Задание 0. Выбрать любой подходящий датасет для классификации. В данном случае MNIST из keras"
      ]
    },
    {
      "cell_type": "code",
      "execution_count": 118,
      "metadata": {
        "id": "9cPkxz9n4ZId",
        "colab": {
          "base_uri": "https://localhost:8080/"
        },
        "outputId": "5e17c408-05c9-4f7a-c23e-f940b6500891"
      },
      "outputs": [
        {
          "output_type": "stream",
          "name": "stdout",
          "text": [
            "Drive already mounted at /content/drive; to attempt to forcibly remount, call drive.mount(\"/content/drive\", force_remount=True).\n"
          ]
        }
      ],
      "source": [
        "# Подключаем библиотеки и конектимся к гугл-диску\n",
        "import pandas as pd\n",
        "import numpy as np\n",
        "import seaborn as sns\n",
        "import matplotlib.pyplot as plt\n",
        "import warnings\n",
        "from sklearn import preprocessing\n",
        "from sklearn.metrics import accuracy_score\n",
        "from sklearn.preprocessing import OneHotEncoder\n",
        "warnings.filterwarnings('ignore')\n",
        "\n",
        "from google.colab import drive\n",
        "drive.mount('/content/drive')"
      ]
    },
    {
      "cell_type": "code",
      "execution_count": 119,
      "metadata": {
        "id": "kpb8d0Ur5J3b",
        "colab": {
          "base_uri": "https://localhost:8080/"
        },
        "outputId": "d0f46833-bbe2-4c37-94bb-785b17b10783"
      },
      "outputs": [
        {
          "output_type": "execute_result",
          "data": {
            "text/plain": [
              "array([[5, 0, 0, ..., 0, 0, 0],\n",
              "       [0, 0, 0, ..., 0, 0, 0],\n",
              "       [4, 0, 0, ..., 0, 0, 0],\n",
              "       ...,\n",
              "       [5, 0, 0, ..., 0, 0, 0],\n",
              "       [2, 0, 0, ..., 0, 0, 0],\n",
              "       [0, 0, 0, ..., 0, 0, 0]])"
            ]
          },
          "metadata": {},
          "execution_count": 119
        }
      ],
      "source": [
        "# Грузим данные\n",
        "data_train = pd.read_csv('/content/drive/MyDrive/data/mnist_train.csv')\n",
        "data_test = pd.read_csv('/content/drive/MyDrive/data/mnist_test.csv')\n",
        "\n",
        "# Ограничим набор данных, чтобы обучение проходило быстрее\n",
        "data_train = data_train[:2000]\n",
        "data_test = data_test[:400]\n",
        "\n",
        "#Преобразуем датасет в numpy массив\n",
        "data_train.to_numpy()"
      ]
    },
    {
      "cell_type": "code",
      "execution_count": 120,
      "metadata": {
        "id": "abIs-8JI6XM3"
      },
      "outputs": [],
      "source": [
        "# отделяем данные от меток\n",
        "data_train_copy = data_train.copy()\n",
        "data_test_copy = data_test.copy()\n",
        "del data_train_copy['label']\n",
        "X_train = data_train_copy\n",
        "del data_test_copy['label']\n",
        "X_test = data_test_copy\n",
        "del data_train_copy\n",
        "del data_test_copy"
      ]
    },
    {
      "cell_type": "code",
      "execution_count": 121,
      "metadata": {
        "colab": {
          "base_uri": "https://localhost:8080/"
        },
        "id": "MKoidM3o-ALg",
        "outputId": "ceb0665d-7c96-4cb8-c0bc-a01b930ff3c9"
      },
      "outputs": [
        {
          "output_type": "execute_result",
          "data": {
            "text/plain": [
              "((2000, 784), (400, 784))"
            ]
          },
          "metadata": {},
          "execution_count": 121
        }
      ],
      "source": [
        "#Смотрим, что получилось\n",
        "X_train.shape, X_test.shape"
      ]
    },
    {
      "cell_type": "code",
      "execution_count": 122,
      "metadata": {
        "id": "G-dSqqJO6XSy"
      },
      "outputs": [],
      "source": [
        "# Проводим нормализацию\n",
        "X_train /= 255\n",
        "X_test /= 255"
      ]
    },
    {
      "cell_type": "code",
      "execution_count": 123,
      "metadata": {
        "colab": {
          "base_uri": "https://localhost:8080/",
          "height": 423
        },
        "id": "suTMrP9v6XSy",
        "outputId": "c861f64c-6ee3-4c07-d935-84d1c2ffa113"
      },
      "outputs": [
        {
          "output_type": "execute_result",
          "data": {
            "text/plain": [
              "        0    1    2    3    4    5    6    7    8    9\n",
              "0     0.0  0.0  0.0  0.0  0.0  1.0  0.0  0.0  0.0  0.0\n",
              "1     1.0  0.0  0.0  0.0  0.0  0.0  0.0  0.0  0.0  0.0\n",
              "2     0.0  0.0  0.0  0.0  1.0  0.0  0.0  0.0  0.0  0.0\n",
              "3     0.0  1.0  0.0  0.0  0.0  0.0  0.0  0.0  0.0  0.0\n",
              "4     0.0  0.0  0.0  0.0  0.0  0.0  0.0  0.0  0.0  1.0\n",
              "...   ...  ...  ...  ...  ...  ...  ...  ...  ...  ...\n",
              "1995  1.0  0.0  0.0  0.0  0.0  0.0  0.0  0.0  0.0  0.0\n",
              "1996  0.0  0.0  0.0  0.0  0.0  1.0  0.0  0.0  0.0  0.0\n",
              "1997  0.0  0.0  0.0  0.0  0.0  1.0  0.0  0.0  0.0  0.0\n",
              "1998  0.0  0.0  1.0  0.0  0.0  0.0  0.0  0.0  0.0  0.0\n",
              "1999  1.0  0.0  0.0  0.0  0.0  0.0  0.0  0.0  0.0  0.0\n",
              "\n",
              "[2000 rows x 10 columns]"
            ],
            "text/html": [
              "\n",
              "  <div id=\"df-eadac239-6559-4da9-a7dd-b7a768ccb592\" class=\"colab-df-container\">\n",
              "    <div>\n",
              "<style scoped>\n",
              "    .dataframe tbody tr th:only-of-type {\n",
              "        vertical-align: middle;\n",
              "    }\n",
              "\n",
              "    .dataframe tbody tr th {\n",
              "        vertical-align: top;\n",
              "    }\n",
              "\n",
              "    .dataframe thead th {\n",
              "        text-align: right;\n",
              "    }\n",
              "</style>\n",
              "<table border=\"1\" class=\"dataframe\">\n",
              "  <thead>\n",
              "    <tr style=\"text-align: right;\">\n",
              "      <th></th>\n",
              "      <th>0</th>\n",
              "      <th>1</th>\n",
              "      <th>2</th>\n",
              "      <th>3</th>\n",
              "      <th>4</th>\n",
              "      <th>5</th>\n",
              "      <th>6</th>\n",
              "      <th>7</th>\n",
              "      <th>8</th>\n",
              "      <th>9</th>\n",
              "    </tr>\n",
              "  </thead>\n",
              "  <tbody>\n",
              "    <tr>\n",
              "      <th>0</th>\n",
              "      <td>0.0</td>\n",
              "      <td>0.0</td>\n",
              "      <td>0.0</td>\n",
              "      <td>0.0</td>\n",
              "      <td>0.0</td>\n",
              "      <td>1.0</td>\n",
              "      <td>0.0</td>\n",
              "      <td>0.0</td>\n",
              "      <td>0.0</td>\n",
              "      <td>0.0</td>\n",
              "    </tr>\n",
              "    <tr>\n",
              "      <th>1</th>\n",
              "      <td>1.0</td>\n",
              "      <td>0.0</td>\n",
              "      <td>0.0</td>\n",
              "      <td>0.0</td>\n",
              "      <td>0.0</td>\n",
              "      <td>0.0</td>\n",
              "      <td>0.0</td>\n",
              "      <td>0.0</td>\n",
              "      <td>0.0</td>\n",
              "      <td>0.0</td>\n",
              "    </tr>\n",
              "    <tr>\n",
              "      <th>2</th>\n",
              "      <td>0.0</td>\n",
              "      <td>0.0</td>\n",
              "      <td>0.0</td>\n",
              "      <td>0.0</td>\n",
              "      <td>1.0</td>\n",
              "      <td>0.0</td>\n",
              "      <td>0.0</td>\n",
              "      <td>0.0</td>\n",
              "      <td>0.0</td>\n",
              "      <td>0.0</td>\n",
              "    </tr>\n",
              "    <tr>\n",
              "      <th>3</th>\n",
              "      <td>0.0</td>\n",
              "      <td>1.0</td>\n",
              "      <td>0.0</td>\n",
              "      <td>0.0</td>\n",
              "      <td>0.0</td>\n",
              "      <td>0.0</td>\n",
              "      <td>0.0</td>\n",
              "      <td>0.0</td>\n",
              "      <td>0.0</td>\n",
              "      <td>0.0</td>\n",
              "    </tr>\n",
              "    <tr>\n",
              "      <th>4</th>\n",
              "      <td>0.0</td>\n",
              "      <td>0.0</td>\n",
              "      <td>0.0</td>\n",
              "      <td>0.0</td>\n",
              "      <td>0.0</td>\n",
              "      <td>0.0</td>\n",
              "      <td>0.0</td>\n",
              "      <td>0.0</td>\n",
              "      <td>0.0</td>\n",
              "      <td>1.0</td>\n",
              "    </tr>\n",
              "    <tr>\n",
              "      <th>...</th>\n",
              "      <td>...</td>\n",
              "      <td>...</td>\n",
              "      <td>...</td>\n",
              "      <td>...</td>\n",
              "      <td>...</td>\n",
              "      <td>...</td>\n",
              "      <td>...</td>\n",
              "      <td>...</td>\n",
              "      <td>...</td>\n",
              "      <td>...</td>\n",
              "    </tr>\n",
              "    <tr>\n",
              "      <th>1995</th>\n",
              "      <td>1.0</td>\n",
              "      <td>0.0</td>\n",
              "      <td>0.0</td>\n",
              "      <td>0.0</td>\n",
              "      <td>0.0</td>\n",
              "      <td>0.0</td>\n",
              "      <td>0.0</td>\n",
              "      <td>0.0</td>\n",
              "      <td>0.0</td>\n",
              "      <td>0.0</td>\n",
              "    </tr>\n",
              "    <tr>\n",
              "      <th>1996</th>\n",
              "      <td>0.0</td>\n",
              "      <td>0.0</td>\n",
              "      <td>0.0</td>\n",
              "      <td>0.0</td>\n",
              "      <td>0.0</td>\n",
              "      <td>1.0</td>\n",
              "      <td>0.0</td>\n",
              "      <td>0.0</td>\n",
              "      <td>0.0</td>\n",
              "      <td>0.0</td>\n",
              "    </tr>\n",
              "    <tr>\n",
              "      <th>1997</th>\n",
              "      <td>0.0</td>\n",
              "      <td>0.0</td>\n",
              "      <td>0.0</td>\n",
              "      <td>0.0</td>\n",
              "      <td>0.0</td>\n",
              "      <td>1.0</td>\n",
              "      <td>0.0</td>\n",
              "      <td>0.0</td>\n",
              "      <td>0.0</td>\n",
              "      <td>0.0</td>\n",
              "    </tr>\n",
              "    <tr>\n",
              "      <th>1998</th>\n",
              "      <td>0.0</td>\n",
              "      <td>0.0</td>\n",
              "      <td>1.0</td>\n",
              "      <td>0.0</td>\n",
              "      <td>0.0</td>\n",
              "      <td>0.0</td>\n",
              "      <td>0.0</td>\n",
              "      <td>0.0</td>\n",
              "      <td>0.0</td>\n",
              "      <td>0.0</td>\n",
              "    </tr>\n",
              "    <tr>\n",
              "      <th>1999</th>\n",
              "      <td>1.0</td>\n",
              "      <td>0.0</td>\n",
              "      <td>0.0</td>\n",
              "      <td>0.0</td>\n",
              "      <td>0.0</td>\n",
              "      <td>0.0</td>\n",
              "      <td>0.0</td>\n",
              "      <td>0.0</td>\n",
              "      <td>0.0</td>\n",
              "      <td>0.0</td>\n",
              "    </tr>\n",
              "  </tbody>\n",
              "</table>\n",
              "<p>2000 rows × 10 columns</p>\n",
              "</div>\n",
              "    <div class=\"colab-df-buttons\">\n",
              "\n",
              "  <div class=\"colab-df-container\">\n",
              "    <button class=\"colab-df-convert\" onclick=\"convertToInteractive('df-eadac239-6559-4da9-a7dd-b7a768ccb592')\"\n",
              "            title=\"Convert this dataframe to an interactive table.\"\n",
              "            style=\"display:none;\">\n",
              "\n",
              "  <svg xmlns=\"http://www.w3.org/2000/svg\" height=\"24px\" viewBox=\"0 -960 960 960\">\n",
              "    <path d=\"M120-120v-720h720v720H120Zm60-500h600v-160H180v160Zm220 220h160v-160H400v160Zm0 220h160v-160H400v160ZM180-400h160v-160H180v160Zm440 0h160v-160H620v160ZM180-180h160v-160H180v160Zm440 0h160v-160H620v160Z\"/>\n",
              "  </svg>\n",
              "    </button>\n",
              "\n",
              "  <style>\n",
              "    .colab-df-container {\n",
              "      display:flex;\n",
              "      gap: 12px;\n",
              "    }\n",
              "\n",
              "    .colab-df-convert {\n",
              "      background-color: #E8F0FE;\n",
              "      border: none;\n",
              "      border-radius: 50%;\n",
              "      cursor: pointer;\n",
              "      display: none;\n",
              "      fill: #1967D2;\n",
              "      height: 32px;\n",
              "      padding: 0 0 0 0;\n",
              "      width: 32px;\n",
              "    }\n",
              "\n",
              "    .colab-df-convert:hover {\n",
              "      background-color: #E2EBFA;\n",
              "      box-shadow: 0px 1px 2px rgba(60, 64, 67, 0.3), 0px 1px 3px 1px rgba(60, 64, 67, 0.15);\n",
              "      fill: #174EA6;\n",
              "    }\n",
              "\n",
              "    .colab-df-buttons div {\n",
              "      margin-bottom: 4px;\n",
              "    }\n",
              "\n",
              "    [theme=dark] .colab-df-convert {\n",
              "      background-color: #3B4455;\n",
              "      fill: #D2E3FC;\n",
              "    }\n",
              "\n",
              "    [theme=dark] .colab-df-convert:hover {\n",
              "      background-color: #434B5C;\n",
              "      box-shadow: 0px 1px 3px 1px rgba(0, 0, 0, 0.15);\n",
              "      filter: drop-shadow(0px 1px 2px rgba(0, 0, 0, 0.3));\n",
              "      fill: #FFFFFF;\n",
              "    }\n",
              "  </style>\n",
              "\n",
              "    <script>\n",
              "      const buttonEl =\n",
              "        document.querySelector('#df-eadac239-6559-4da9-a7dd-b7a768ccb592 button.colab-df-convert');\n",
              "      buttonEl.style.display =\n",
              "        google.colab.kernel.accessAllowed ? 'block' : 'none';\n",
              "\n",
              "      async function convertToInteractive(key) {\n",
              "        const element = document.querySelector('#df-eadac239-6559-4da9-a7dd-b7a768ccb592');\n",
              "        const dataTable =\n",
              "          await google.colab.kernel.invokeFunction('convertToInteractive',\n",
              "                                                    [key], {});\n",
              "        if (!dataTable) return;\n",
              "\n",
              "        const docLinkHtml = 'Like what you see? Visit the ' +\n",
              "          '<a target=\"_blank\" href=https://colab.research.google.com/notebooks/data_table.ipynb>data table notebook</a>'\n",
              "          + ' to learn more about interactive tables.';\n",
              "        element.innerHTML = '';\n",
              "        dataTable['output_type'] = 'display_data';\n",
              "        await google.colab.output.renderOutput(dataTable, element);\n",
              "        const docLink = document.createElement('div');\n",
              "        docLink.innerHTML = docLinkHtml;\n",
              "        element.appendChild(docLink);\n",
              "      }\n",
              "    </script>\n",
              "  </div>\n",
              "\n",
              "\n",
              "<div id=\"df-bbfb03da-2a03-4272-ae31-309b9452b916\">\n",
              "  <button class=\"colab-df-quickchart\" onclick=\"quickchart('df-bbfb03da-2a03-4272-ae31-309b9452b916')\"\n",
              "            title=\"Suggest charts\"\n",
              "            style=\"display:none;\">\n",
              "\n",
              "<svg xmlns=\"http://www.w3.org/2000/svg\" height=\"24px\"viewBox=\"0 0 24 24\"\n",
              "     width=\"24px\">\n",
              "    <g>\n",
              "        <path d=\"M19 3H5c-1.1 0-2 .9-2 2v14c0 1.1.9 2 2 2h14c1.1 0 2-.9 2-2V5c0-1.1-.9-2-2-2zM9 17H7v-7h2v7zm4 0h-2V7h2v10zm4 0h-2v-4h2v4z\"/>\n",
              "    </g>\n",
              "</svg>\n",
              "  </button>\n",
              "\n",
              "<style>\n",
              "  .colab-df-quickchart {\n",
              "      --bg-color: #E8F0FE;\n",
              "      --fill-color: #1967D2;\n",
              "      --hover-bg-color: #E2EBFA;\n",
              "      --hover-fill-color: #174EA6;\n",
              "      --disabled-fill-color: #AAA;\n",
              "      --disabled-bg-color: #DDD;\n",
              "  }\n",
              "\n",
              "  [theme=dark] .colab-df-quickchart {\n",
              "      --bg-color: #3B4455;\n",
              "      --fill-color: #D2E3FC;\n",
              "      --hover-bg-color: #434B5C;\n",
              "      --hover-fill-color: #FFFFFF;\n",
              "      --disabled-bg-color: #3B4455;\n",
              "      --disabled-fill-color: #666;\n",
              "  }\n",
              "\n",
              "  .colab-df-quickchart {\n",
              "    background-color: var(--bg-color);\n",
              "    border: none;\n",
              "    border-radius: 50%;\n",
              "    cursor: pointer;\n",
              "    display: none;\n",
              "    fill: var(--fill-color);\n",
              "    height: 32px;\n",
              "    padding: 0;\n",
              "    width: 32px;\n",
              "  }\n",
              "\n",
              "  .colab-df-quickchart:hover {\n",
              "    background-color: var(--hover-bg-color);\n",
              "    box-shadow: 0 1px 2px rgba(60, 64, 67, 0.3), 0 1px 3px 1px rgba(60, 64, 67, 0.15);\n",
              "    fill: var(--button-hover-fill-color);\n",
              "  }\n",
              "\n",
              "  .colab-df-quickchart-complete:disabled,\n",
              "  .colab-df-quickchart-complete:disabled:hover {\n",
              "    background-color: var(--disabled-bg-color);\n",
              "    fill: var(--disabled-fill-color);\n",
              "    box-shadow: none;\n",
              "  }\n",
              "\n",
              "  .colab-df-spinner {\n",
              "    border: 2px solid var(--fill-color);\n",
              "    border-color: transparent;\n",
              "    border-bottom-color: var(--fill-color);\n",
              "    animation:\n",
              "      spin 1s steps(1) infinite;\n",
              "  }\n",
              "\n",
              "  @keyframes spin {\n",
              "    0% {\n",
              "      border-color: transparent;\n",
              "      border-bottom-color: var(--fill-color);\n",
              "      border-left-color: var(--fill-color);\n",
              "    }\n",
              "    20% {\n",
              "      border-color: transparent;\n",
              "      border-left-color: var(--fill-color);\n",
              "      border-top-color: var(--fill-color);\n",
              "    }\n",
              "    30% {\n",
              "      border-color: transparent;\n",
              "      border-left-color: var(--fill-color);\n",
              "      border-top-color: var(--fill-color);\n",
              "      border-right-color: var(--fill-color);\n",
              "    }\n",
              "    40% {\n",
              "      border-color: transparent;\n",
              "      border-right-color: var(--fill-color);\n",
              "      border-top-color: var(--fill-color);\n",
              "    }\n",
              "    60% {\n",
              "      border-color: transparent;\n",
              "      border-right-color: var(--fill-color);\n",
              "    }\n",
              "    80% {\n",
              "      border-color: transparent;\n",
              "      border-right-color: var(--fill-color);\n",
              "      border-bottom-color: var(--fill-color);\n",
              "    }\n",
              "    90% {\n",
              "      border-color: transparent;\n",
              "      border-bottom-color: var(--fill-color);\n",
              "    }\n",
              "  }\n",
              "</style>\n",
              "\n",
              "  <script>\n",
              "    async function quickchart(key) {\n",
              "      const quickchartButtonEl =\n",
              "        document.querySelector('#' + key + ' button');\n",
              "      quickchartButtonEl.disabled = true;  // To prevent multiple clicks.\n",
              "      quickchartButtonEl.classList.add('colab-df-spinner');\n",
              "      try {\n",
              "        const charts = await google.colab.kernel.invokeFunction(\n",
              "            'suggestCharts', [key], {});\n",
              "      } catch (error) {\n",
              "        console.error('Error during call to suggestCharts:', error);\n",
              "      }\n",
              "      quickchartButtonEl.classList.remove('colab-df-spinner');\n",
              "      quickchartButtonEl.classList.add('colab-df-quickchart-complete');\n",
              "    }\n",
              "    (() => {\n",
              "      let quickchartButtonEl =\n",
              "        document.querySelector('#df-bbfb03da-2a03-4272-ae31-309b9452b916 button');\n",
              "      quickchartButtonEl.style.display =\n",
              "        google.colab.kernel.accessAllowed ? 'block' : 'none';\n",
              "    })();\n",
              "  </script>\n",
              "</div>\n",
              "    </div>\n",
              "  </div>\n"
            ]
          },
          "metadata": {},
          "execution_count": 123
        }
      ],
      "source": [
        "# Кодируем метки классов\n",
        "encoding = OneHotEncoder(sparse=False, handle_unknown='error')\n",
        "labels = pd.concat([data_train[['label']], data_test[['label']]])\n",
        "encoding.fit(labels)\n",
        "y_train = pd.DataFrame(encoding.transform(data_train[['label']]))\n",
        "y_test = pd.DataFrame(encoding.fit_transform(data_test[['label']]))\n",
        "y_train"
      ]
    },
    {
      "cell_type": "code",
      "execution_count": 124,
      "metadata": {
        "id": "JWwk72Pc6XW4"
      },
      "outputs": [],
      "source": [
        "# Приводим все датасеты к массивам\n",
        "X_test = X_test.to_numpy()\n",
        "y_train = y_train.to_numpy()\n",
        "X_train = X_train.to_numpy()\n",
        "y_test = y_test.to_numpy()"
      ]
    },
    {
      "cell_type": "markdown",
      "metadata": {
        "id": "bqvJBo_k6Xa0"
      },
      "source": [
        "# Задание 1. Реализация однослойного перцептрона без использования библиотек"
      ]
    },
    {
      "cell_type": "code",
      "execution_count": 125,
      "metadata": {
        "id": "IAu54EZL6Xa0"
      },
      "outputs": [],
      "source": [
        "#Задаём функцию активации\n",
        "def relu(x):\n",
        "    return (x > 0) * x\n",
        "\n",
        "def relu_two_deriv(output):\n",
        "    return output>0"
      ]
    },
    {
      "cell_type": "code",
      "execution_count": 126,
      "metadata": {
        "id": "E7eT1DGD6Xa1"
      },
      "outputs": [],
      "source": [
        "# Настраиваем модель предсказания сети\n",
        "def model_prediction(input, weights_0_1, weights_1_2):\n",
        "  layer_0 = input\n",
        "  layer_1 = relu(np.dot(layer_0,weights_0_1))\n",
        "  layer_2 = np.dot(layer_1,weights_1_2)\n",
        "  return layer_2"
      ]
    },
    {
      "cell_type": "code",
      "execution_count": 127,
      "metadata": {
        "colab": {
          "base_uri": "https://localhost:8080/"
        },
        "id": "92W9txvm6XlN",
        "outputId": "fe7da7b5-3c11-4577-9300-a3fece7ae8f1"
      },
      "outputs": [
        {
          "output_type": "stream",
          "name": "stdout",
          "text": [
            "Error: 983.3734915041077\n",
            "Acc: 0.88\n",
            "Error: 468.459255382291\n",
            "Acc: 0.91\n",
            "Error: 365.35172186638096\n",
            "Acc: 0.95\n"
          ]
        }
      ],
      "source": [
        "# Реализуем стохастический градиентный спуск\n",
        "\n",
        "np.random.seed(1)\n",
        "\n",
        "learning_rate = 0.005\n",
        "hidden_size = 40\n",
        "input_size = 784\n",
        "num_labels = 10\n",
        "\n",
        "weights_input_hidden = (2*np.random.random((input_size,hidden_size)) - 1) / np.sqrt(input_size) # веса между входным и скрытым слоями\n",
        "weights_hidden_output = (2*np.random.random((hidden_size, num_labels)) - 1) / np.sqrt(hidden_size) # веса между скрытым и выходным слоями\n",
        "\n",
        "array_iteration = []\n",
        "array_error = []\n",
        "array_accuracy = []\n",
        "\n",
        "for iteration in range(6):\n",
        "   error = 0\n",
        "   for i in range(len(X_train)):\n",
        "     # прямой проход\n",
        "     input_layer = X_train[i:i+1]\n",
        "     hidden_layer = relu(np.dot(input_layer,weights_input_hidden))\n",
        "     output_layer = np.dot(hidden_layer,weights_hidden_output)\n",
        "\n",
        "     error = error + np.sum((output_layer - y_train[i:i+1]) ** 2)\n",
        "\n",
        "     # обратный проход\n",
        "     diff_between_output_hidden = 2*(output_layer - y_train[i:i+1])\n",
        "     weight_hidden_output_corrections = hidden_layer.T.dot(diff_between_output_hidden) # величина коррекции для весов между layer_1 и layer_2\n",
        "\n",
        "     diff_between_input_hidden = diff_between_output_hidden.dot(weights_hidden_output.T)*relu_two_deriv(hidden_layer)\n",
        "     weight_input_hidden_corrections = input_layer.T.dot(diff_between_input_hidden)\n",
        "\n",
        "     weights_hidden_output = weights_hidden_output - learning_rate * weight_hidden_output_corrections\n",
        "     weights_input_hidden = weights_input_hidden - learning_rate * weight_input_hidden_corrections\n",
        "\n",
        "   if(iteration % 2 == 0):\n",
        "      print(\"Error:\", str(error))\n",
        "      array_iteration.append(iteration)\n",
        "      array_error.append(error)\n",
        "      goal_idx = np.argmax(y_train[:100], axis=1)\n",
        "      y_prediction = model_prediction(X_train[:100], weights_input_hidden, weights_hidden_output)\n",
        "      pred_idx = np.argmax(y_prediction, axis=1)\n",
        "      accuracy = accuracy_score(goal_idx ,pred_idx)\n",
        "      array_accuracy.append(accuracy)\n",
        "      print(\"Acc:\", str(accuracy))"
      ]
    },
    {
      "cell_type": "code",
      "execution_count": 128,
      "metadata": {
        "colab": {
          "base_uri": "https://localhost:8080/",
          "height": 433
        },
        "id": "TTY9mSul6XlO",
        "outputId": "ff12ec0c-4e09-452c-caa4-a5567f91c96c"
      },
      "outputs": [
        {
          "output_type": "display_data",
          "data": {
            "text/plain": [
              "<Figure size 1200x1000 with 2 Axes>"
            ],
            "image/png": "[encoded data removed]"
          },
          "metadata": {}
        }
      ],
      "source": [
        "# Строим графики по нему\n",
        "\n",
        "graph = plt.figure(figsize=(12, 10), constrained_layout=False)\n",
        "\n",
        "error_range = np.linspace(0.18, 0)\n",
        "\n",
        "subgraph_1 = graph.add_subplot(221)\n",
        "subgraph_1.plot(array_iteration, array_error)\n",
        "subgraph_1.set_title('Ошибки')\n",
        "plt.grid()\n",
        "\n",
        "subgraph_2 = graph.add_subplot(222)\n",
        "subgraph_2.plot(array_iteration, array_accuracy)\n",
        "subgraph_2.set_title('Точность')\n",
        "plt.grid()"
      ]
    },
    {
      "cell_type": "code",
      "execution_count": 129,
      "metadata": {
        "colab": {
          "base_uri": "https://localhost:8080/"
        },
        "id": "rjnCJPCmHkHI",
        "outputId": "66d90bbf-91a4-4ad2-d75a-346b8b97fb27"
      },
      "outputs": [
        {
          "output_type": "stream",
          "name": "stdout",
          "text": [
            "Error: 0.05553970137197859\n",
            "Acc: 0.86\n",
            "Error: 0.022111549972350875\n",
            "Acc: 0.92\n",
            "Error: 0.01713666155828357\n",
            "Acc: 0.94\n",
            "Error: 0.014623429800524402\n",
            "Acc: 0.96\n",
            "Error: 0.012639067935195616\n",
            "Acc: 0.96\n"
          ]
        }
      ],
      "source": [
        "# Теперь пакетный градиентный спуск\n",
        "\n",
        "learning_rate = 0.005\n",
        "hidden_size = 64\n",
        "input_size = 784\n",
        "num_labels = 10\n",
        "batch_size = 32\n",
        "n_iterations = len(X_train) // batch_size\n",
        "epochs_count  = 10\n",
        "\n",
        "weights_input_hidden_batch = (2*np.random.random((input_size,hidden_size)) - 1) / np.sqrt(input_size) #веса между входным и скрытым слоями\n",
        "weights_hidden_output_batch = (2*np.random.random((hidden_size, num_labels)) - 1) / np.sqrt(hidden_size) #веса между скрытым и выходным слоями\n",
        "\n",
        "array_iteration_batch = []\n",
        "array_error_batch = []\n",
        "array_accuracy_batch = []\n",
        "\n",
        "\n",
        "for epoch in range(epochs_count):\n",
        "   error = 0\n",
        "   for i in range(n_iterations):\n",
        "     # промой проход\n",
        "     input_layer_batch = X_train[i * batch_size:(i+1) * batch_size]\n",
        "     hidden_layer_batch = relu(np.dot(input_layer_batch, weights_input_hidden_batch))\n",
        "     output_layer_batch = np.dot(hidden_layer_batch, weights_hidden_output_batch)\n",
        "\n",
        "     error += np.mean((output_layer_batch - y_train[i * batch_size:(i+1) * batch_size]) ** 2)\n",
        "\n",
        "     # обратный проход\n",
        "     diff_between_output_hidden_batch = 2*(output_layer_batch - y_train[i * batch_size:(i+1) * batch_size])\n",
        "     weight_output_hidden_batch_corrections = hidden_layer_batch.T.dot(diff_between_output_hidden_batch) #величина коррекции для весов между layer_1 и layer_2\n",
        "\n",
        "     diff_between_input_hidden_batch = diff_between_output_hidden_batch.dot(weights_hidden_output_batch.T)*relu_two_deriv(hidden_layer_batch)\n",
        "     weight_input_hidden_batch_corrections = input_layer_batch.T.dot(diff_between_input_hidden_batch)\n",
        "\n",
        "     weights_hidden_output_batch = weights_hidden_output_batch - learning_rate * weight_output_hidden_batch_corrections\n",
        "     weights_input_hidden_batch = weights_input_hidden_batch - learning_rate * weight_input_hidden_batch_corrections\n",
        "\n",
        "   if(epoch % 2 == 0):\n",
        "      print(\"Error:\", error / n_iterations) # MAE\n",
        "      array_iteration_batch.append(epoch)\n",
        "      array_error_batch.append(error)\n",
        "      goal_idx = np.argmax(y_train[:100], axis=1)\n",
        "      y_pred = model_prediction(X_train[:100], weights_input_hidden_batch, weights_hidden_output_batch)\n",
        "      pred_idx = np.argmax(y_pred, axis=1)\n",
        "      accuracy = accuracy_score(goal_idx ,pred_idx)\n",
        "      array_accuracy_batch.append(accuracy)\n",
        "      print(\"Acc:\", str(accuracy))\n",
        ""
      ]
    },
    {
      "cell_type": "code",
      "execution_count": 130,
      "metadata": {
        "colab": {
          "base_uri": "https://localhost:8080/",
          "height": 433
        },
        "id": "JS9S9qSjHkxn",
        "outputId": "2f0f9fb0-338d-415e-f852-9bcca355ee9a"
      },
      "outputs": [
        {
          "output_type": "display_data",
          "data": {
            "text/plain": [
              "<Figure size 1200x1000 with 2 Axes>"
            ],
            "image/png": "[encoded data removed]"
          },
          "metadata": {}
        }
      ],
      "source": [
        "# Построим графики\n",
        "\n",
        "graph_batch = plt.figure(figsize=(12, 10), constrained_layout=False)\n",
        "\n",
        "error_range = np.linspace(0.15, 0)\n",
        "\n",
        "subgraph_batch_1 = graph_batch.add_subplot(221)\n",
        "subgraph_batch_1.plot(array_iteration_batch, array_error_batch)\n",
        "subgraph_batch_1.set_title('Ошибки')\n",
        "plt.grid()\n",
        "\n",
        "subgraph_batch_2 = graph_batch.add_subplot(222)\n",
        "subgraph_batch_2.plot(array_iteration_batch, array_accuracy_batch)\n",
        "subgraph_batch_2.set_title('Точность')\n",
        "plt.grid()"
      ]
    },
    {
      "cell_type": "code",
      "execution_count": 131,
      "metadata": {
        "colab": {
          "base_uri": "https://localhost:8080/"
        },
        "id": "uGjMJGRVLv4y",
        "outputId": "7c3de3c0-a009-45f2-c8e4-48165c0c1434"
      },
      "outputs": [
        {
          "output_type": "stream",
          "name": "stdout",
          "text": [
            "Test Acc: 0.9175\n"
          ]
        }
      ],
      "source": [
        "# Предсказание\n",
        "goal_idx = np.argmax(y_test, axis=1)\n",
        "y_pred = model_prediction(X_test, weights_input_hidden_batch, weights_hidden_output_batch)\n",
        "pred_idx = np.argmax(y_pred, axis=1)\n",
        "acc = accuracy_score(goal_idx ,pred_idx)\n",
        "array_accuracy_batch.append(acc)\n",
        "print(\"Test Acc:\", acc)"
      ]
    },
    {
      "cell_type": "markdown",
      "source": [
        "# Задание 2. Сравнить результаты с использованием однослойного перцептрона из sklearn"
      ],
      "metadata": {
        "id": "jjdhQja6apX9"
      }
    },
    {
      "cell_type": "code",
      "execution_count": 132,
      "metadata": {
        "colab": {
          "base_uri": "https://localhost:8080/"
        },
        "id": "vQS6Ui8Xti2w",
        "outputId": "5b185736-3372-446d-ed1d-84a5b4063a3b"
      },
      "outputs": [
        {
          "output_type": "stream",
          "name": "stdout",
          "text": [
            "0.8475\n"
          ]
        }
      ],
      "source": [
        "from sklearn.linear_model import Perceptron\n",
        "\n",
        "y_train = data_train['label']\n",
        "y_test = data_test['label']\n",
        "\n",
        "model = Perceptron(random_state=77)\n",
        "model.fit(X_train, y_train)\n",
        "print(model.score(X_test, y_test))"
      ]
    },
    {
      "cell_type": "markdown",
      "source": [
        "# Задание 3. Сравнить результаты с использованием многослойного перцептрона из sklearn"
      ],
      "metadata": {
        "id": "46IkENRvbzQ-"
      }
    },
    {
      "cell_type": "code",
      "execution_count": 133,
      "metadata": {
        "colab": {
          "base_uri": "https://localhost:8080/"
        },
        "id": "sZj3HE9Mti2w",
        "outputId": "d9eca18c-0403-4e8b-96cb-8b1c3351b08b"
      },
      "outputs": [
        {
          "output_type": "stream",
          "name": "stdout",
          "text": [
            "0.915\n"
          ]
        }
      ],
      "source": [
        "from sklearn.neural_network import MLPClassifier\n",
        "\n",
        "clf = MLPClassifier(random_state=1)\n",
        "clf.fit(X_train, y_train)\n",
        "print(clf.score(X_test, y_test))"
      ]
    }
  ],
  "metadata": {
    "colab": {
      "provenance": []
    },
    "kernelspec": {
      "display_name": "Python 3 (ipykernel)",
      "language": "python",
      "name": "python3"
    },
    "language_info": {
      "codemirror_mode": {
        "name": "ipython",
        "version": 3
      },
      "file_extension": ".py",
      "mimetype": "text/x-python",
      "name": "python",
      "nbconvert_exporter": "python",
      "pygments_lexer": "ipython3",
      "version": "3.9.13"
    }
  },
  "nbformat": 4,
  "nbformat_minor": 0
}